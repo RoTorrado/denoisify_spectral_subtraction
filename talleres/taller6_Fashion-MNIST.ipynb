{
  "cells": [
    {
      "cell_type": "markdown",
      "id": "lasting-young",
      "metadata": {
        "id": "lasting-young"
      },
      "source": [
        "#  <center> Taller  de Aprendizaje Automático </center>\n",
        "##  <center> Taller 6: Fashion MNIST  </center>"
      ]
    },
    {
      "cell_type": "markdown",
      "id": "expanded-friendly",
      "metadata": {
        "id": "expanded-friendly"
      },
      "source": [
        "En esta actividad se diseñará y entrenará una arquitectura para clasificar las imágenes del dataset *Fashion MNIST*.\n",
        "\n",
        "## Objetivos\n",
        "\n",
        " - Adquirir experiencia práctica en la implementación de redes neuronales con la biblioteca *keras*\n",
        " - Evaluar la influencia que tienen en el entrenamiento de una *red profunda* la inclusión de técnicas como *Batch Normalization* o *Dropout* en la arquitectura de la red.\n",
        " - Evaluar el impacto de la *inicialización* de los pesos en el entrenamiento de una *red profunda*.\n",
        " - Diseñar, entrenar y evaluar arquitecturas para clasificar imágenes.  \n"
      ]
    },
    {
      "cell_type": "markdown",
      "id": "stuffed-configuration",
      "metadata": {
        "id": "stuffed-configuration"
      },
      "source": [
        "<table align=\"left\">\n",
        "  <td>\n",
        "    <a target=\"_blank\" href=\"https://colab.research.google.com/github/TAA-fing/TAA-2025/blob/main/talleres/taller6_Fashion-MNIST.ipynb\"><img src=\"https://www.tensorflow.org/images/colab_logo_32px.png\" />Ejecutar en Google Colab</a>\n",
        "  </td>\n",
        "</table>"
      ]
    },
    {
      "cell_type": "code",
      "execution_count": 7,
      "id": "exempt-invention",
      "metadata": {
        "ExecuteTime": {
          "end_time": "2022-05-18T08:34:33.495506Z",
          "start_time": "2022-05-18T08:34:30.252315Z"
        },
        "id": "exempt-invention"
      },
      "outputs": [],
      "source": [
        "from comet_ml import Experiment\n",
        "import tensorflow as tf\n",
        "from tensorflow import keras\n",
        "import numpy as np\n",
        "from matplotlib import pyplot as plt\n",
        "import os\n",
        "import pandas as pd"
      ]
    },
    {
      "cell_type": "markdown",
      "id": "roman-denver",
      "metadata": {
        "id": "roman-denver"
      },
      "source": [
        "Los paquetes faltantes se pueden instalar desde el notebook haciendo:     \n",
        "*!pip install paquete_faltante*"
      ]
    },
    {
      "cell_type": "code",
      "source": [],
      "metadata": {
        "colab": {
          "base_uri": "https://localhost:8080/"
        },
        "id": "seFov3LfM6CN",
        "outputId": "553a4d6c-f740-4489-8462-8bee44ca3057"
      },
      "id": "seFov3LfM6CN",
      "execution_count": 6,
      "outputs": [
        {
          "output_type": "stream",
          "name": "stdout",
          "text": [
            "Collecting comet_ml\n",
            "  Downloading comet_ml-3.49.10-py3-none-any.whl.metadata (4.1 kB)\n",
            "Collecting dulwich!=0.20.33,>=0.20.6 (from comet_ml)\n",
            "  Downloading dulwich-0.22.8-cp311-cp311-manylinux_2_17_x86_64.manylinux2014_x86_64.whl.metadata (4.9 kB)\n",
            "Collecting everett<3.2.0,>=1.0.1 (from everett[ini]<3.2.0,>=1.0.1->comet_ml)\n",
            "  Downloading everett-3.1.0-py2.py3-none-any.whl.metadata (17 kB)\n",
            "Requirement already satisfied: jsonschema!=3.1.0,>=2.6.0 in /usr/local/lib/python3.11/dist-packages (from comet_ml) (4.23.0)\n",
            "Requirement already satisfied: psutil>=5.6.3 in /usr/local/lib/python3.11/dist-packages (from comet_ml) (5.9.5)\n",
            "Collecting python-box<7.0.0 (from comet_ml)\n",
            "  Downloading python_box-6.1.0-cp311-cp311-manylinux_2_17_x86_64.manylinux2014_x86_64.whl.metadata (7.8 kB)\n",
            "Requirement already satisfied: requests-toolbelt>=0.8.0 in /usr/local/lib/python3.11/dist-packages (from comet_ml) (1.0.0)\n",
            "Requirement already satisfied: requests>=2.18.4 in /usr/local/lib/python3.11/dist-packages (from comet_ml) (2.32.3)\n",
            "Requirement already satisfied: rich>=13.3.2 in /usr/local/lib/python3.11/dist-packages (from comet_ml) (13.9.4)\n",
            "Collecting semantic-version>=2.8.0 (from comet_ml)\n",
            "  Downloading semantic_version-2.10.0-py2.py3-none-any.whl.metadata (9.7 kB)\n",
            "Requirement already satisfied: sentry-sdk>=1.1.0 in /usr/local/lib/python3.11/dist-packages (from comet_ml) (2.29.1)\n",
            "Requirement already satisfied: simplejson in /usr/local/lib/python3.11/dist-packages (from comet_ml) (3.20.1)\n",
            "Requirement already satisfied: urllib3>=1.21.1 in /usr/local/lib/python3.11/dist-packages (from comet_ml) (2.4.0)\n",
            "Requirement already satisfied: wrapt>=1.11.2 in /usr/local/lib/python3.11/dist-packages (from comet_ml) (1.17.2)\n",
            "Requirement already satisfied: wurlitzer>=1.0.2 in /usr/local/lib/python3.11/dist-packages (from comet_ml) (3.1.1)\n",
            "Collecting configobj (from everett[ini]<3.2.0,>=1.0.1->comet_ml)\n",
            "  Downloading configobj-5.0.9-py2.py3-none-any.whl.metadata (3.2 kB)\n",
            "Requirement already satisfied: attrs>=22.2.0 in /usr/local/lib/python3.11/dist-packages (from jsonschema!=3.1.0,>=2.6.0->comet_ml) (25.3.0)\n",
            "Requirement already satisfied: jsonschema-specifications>=2023.03.6 in /usr/local/lib/python3.11/dist-packages (from jsonschema!=3.1.0,>=2.6.0->comet_ml) (2025.4.1)\n",
            "Requirement already satisfied: referencing>=0.28.4 in /usr/local/lib/python3.11/dist-packages (from jsonschema!=3.1.0,>=2.6.0->comet_ml) (0.36.2)\n",
            "Requirement already satisfied: rpds-py>=0.7.1 in /usr/local/lib/python3.11/dist-packages (from jsonschema!=3.1.0,>=2.6.0->comet_ml) (0.25.1)\n",
            "Requirement already satisfied: charset-normalizer<4,>=2 in /usr/local/lib/python3.11/dist-packages (from requests>=2.18.4->comet_ml) (3.4.2)\n",
            "Requirement already satisfied: idna<4,>=2.5 in /usr/local/lib/python3.11/dist-packages (from requests>=2.18.4->comet_ml) (3.10)\n",
            "Requirement already satisfied: certifi>=2017.4.17 in /usr/local/lib/python3.11/dist-packages (from requests>=2.18.4->comet_ml) (2025.4.26)\n",
            "Requirement already satisfied: markdown-it-py>=2.2.0 in /usr/local/lib/python3.11/dist-packages (from rich>=13.3.2->comet_ml) (3.0.0)\n",
            "Requirement already satisfied: pygments<3.0.0,>=2.13.0 in /usr/local/lib/python3.11/dist-packages (from rich>=13.3.2->comet_ml) (2.19.1)\n",
            "Requirement already satisfied: mdurl~=0.1 in /usr/local/lib/python3.11/dist-packages (from markdown-it-py>=2.2.0->rich>=13.3.2->comet_ml) (0.1.2)\n",
            "Requirement already satisfied: typing-extensions>=4.4.0 in /usr/local/lib/python3.11/dist-packages (from referencing>=0.28.4->jsonschema!=3.1.0,>=2.6.0->comet_ml) (4.13.2)\n",
            "Downloading comet_ml-3.49.10-py3-none-any.whl (727 kB)\n",
            "\u001b[2K   \u001b[90m━━━━━━━━━━━━━━━━━━━━━━━━━━━━━━━━━━━━━━━━\u001b[0m \u001b[32m727.1/727.1 kB\u001b[0m \u001b[31m17.7 MB/s\u001b[0m eta \u001b[36m0:00:00\u001b[0m\n",
            "\u001b[?25hDownloading dulwich-0.22.8-cp311-cp311-manylinux_2_17_x86_64.manylinux2014_x86_64.whl (1.0 MB)\n",
            "\u001b[2K   \u001b[90m━━━━━━━━━━━━━━━━━━━━━━━━━━━━━━━━━━━━━━━━\u001b[0m \u001b[32m1.0/1.0 MB\u001b[0m \u001b[31m46.5 MB/s\u001b[0m eta \u001b[36m0:00:00\u001b[0m\n",
            "\u001b[?25hDownloading everett-3.1.0-py2.py3-none-any.whl (35 kB)\n",
            "Downloading python_box-6.1.0-cp311-cp311-manylinux_2_17_x86_64.manylinux2014_x86_64.whl (3.5 MB)\n",
            "\u001b[2K   \u001b[90m━━━━━━━━━━━━━━━━━━━━━━━━━━━━━━━━━━━━━━━━\u001b[0m \u001b[32m3.5/3.5 MB\u001b[0m \u001b[31m75.2 MB/s\u001b[0m eta \u001b[36m0:00:00\u001b[0m\n",
            "\u001b[?25hDownloading semantic_version-2.10.0-py2.py3-none-any.whl (15 kB)\n",
            "Downloading configobj-5.0.9-py2.py3-none-any.whl (35 kB)\n",
            "Installing collected packages: everett, semantic-version, python-box, dulwich, configobj, comet_ml\n",
            "  Attempting uninstall: python-box\n",
            "    Found existing installation: python-box 7.3.2\n",
            "    Uninstalling python-box-7.3.2:\n",
            "      Successfully uninstalled python-box-7.3.2\n",
            "Successfully installed comet_ml-3.49.10 configobj-5.0.9 dulwich-0.22.8 everett-3.1.0 python-box-6.1.0 semantic-version-2.10.0\n"
          ]
        }
      ]
    },
    {
      "cell_type": "markdown",
      "id": "marked-transmission",
      "metadata": {
        "id": "marked-transmission"
      },
      "source": [
        "### Parte 1 - Levantar los datos"
      ]
    },
    {
      "cell_type": "markdown",
      "id": "optimum-rally",
      "metadata": {
        "id": "optimum-rally"
      },
      "source": [
        "Se trabajará con el conjunto de datos *Fashion MNIST* disponible en [*Keras*](https://keras.io/api/datasets/fashion_mnist/). Levantar los datos y separar, de los datos disponibles para entrenamiento, un subconjunto de 10000 muestras para validación."
      ]
    },
    {
      "cell_type": "code",
      "execution_count": 21,
      "id": "theoretical-inspection",
      "metadata": {
        "id": "theoretical-inspection"
      },
      "outputs": [],
      "source": [
        "(x_train, y_train), (x_test, y_test) = keras.datasets.fashion_mnist.load_data()"
      ]
    },
    {
      "cell_type": "code",
      "source": [
        "x_val = x_train[-10000:]\n",
        "y_val = y_train[-10000:]\n",
        "\n",
        "x_train = x_train[:-10000]\n",
        "y_train = y_train[:-10000]"
      ],
      "metadata": {
        "id": "bHDweLtPNjH6"
      },
      "id": "bHDweLtPNjH6",
      "execution_count": 22,
      "outputs": []
    },
    {
      "cell_type": "code",
      "source": [
        "x_train[27]"
      ],
      "metadata": {
        "colab": {
          "base_uri": "https://localhost:8080/",
          "height": 68
        },
        "id": "I9cLWlMlaEdv",
        "outputId": "00de72b9-7a55-4f02-ea83-a6818a7b4d71"
      },
      "id": "I9cLWlMlaEdv",
      "execution_count": 34,
      "outputs": [
        {
          "output_type": "execute_result",
          "data": {
            "text/plain": [
              "array([[  0,   0,   0,   1,   0,   0,   0,   0,   0,  70, 173, 202, 169,\n",
              "        180, 179, 182, 219, 179,  61,   0,   0,   0,   0,   0,   0,   0,\n",
              "          0,   0],\n",
              "       [  0,   0,   0,   0,   0,   0,  32, 180, 237, 248, 232, 234, 255,\n",
              "        255, 255, 255, 235, 234, 255, 236, 191,  32,   0,   0,   0,   0,\n",
              "          0,   0],\n",
              "       [  0,   0,   0,   4,   0,  47, 225, 220, 202, 199, 193, 208, 191,\n",
              "        205, 179, 218, 211, 181, 202, 212, 226, 230,  59,   0,   1,   0,\n",
              "          0,   0],\n",
              "       [  0,   0,   0,   0,   0, 187, 234, 208, 201, 206, 193, 226, 237,\n",
              "        225, 200, 232, 227, 201, 218, 212, 214, 229, 201,   0,   0,   0,\n",
              "          0,   0],\n",
              "       [  0,   0,   0,   0,  23, 229, 207, 202, 195, 198, 201, 192, 244,\n",
              "        204, 209, 236, 229, 176, 234, 207, 204, 202, 220,  29,   0,   0,\n",
              "          0,   0],\n",
              "       [  0,   0,   0,   0, 131, 253, 221, 207, 222, 199, 190, 192, 217,\n",
              "        231, 187, 254, 217, 205, 219, 209, 200, 201, 232, 128,   0,   0,\n",
              "          0,   0],\n",
              "       [  0,   0,   0,   0, 196, 235, 214, 189, 233, 255, 217, 187, 198,\n",
              "        234, 216, 255, 206, 226, 208, 204, 197, 220, 255, 182,   0,   0,\n",
              "          0,   0],\n",
              "       [  0,   0,   0,   0, 205, 226, 231, 208, 193, 222, 247, 224, 186,\n",
              "        208, 255, 253, 223, 187, 217, 204, 198, 238, 228, 218,   0,   0,\n",
              "          0,   0],\n",
              "       [  0,   0,   0,   0, 227, 227, 222, 206, 207, 198, 204, 242, 238,\n",
              "        192, 231, 240, 232, 237, 255, 251, 209, 236, 209, 227,   0,   0,\n",
              "          0,   0],\n",
              "       [  0,   0,   0,   0, 255, 227, 229, 212, 204, 199, 211, 219, 238,\n",
              "        242, 229, 226, 215, 206, 209, 222, 244, 230, 219, 255,   0,   0,\n",
              "          0,   0],\n",
              "       [  0,   0,   0,   0, 233, 234, 233, 218, 201, 209, 191, 216, 202,\n",
              "        241, 212, 192, 197, 209, 219, 184, 230, 235, 224, 250,   0,   0,\n",
              "          0,   0],\n",
              "       [  0,   0,   0,  19, 236, 224, 208, 213, 208, 236, 241, 196, 217,\n",
              "        231, 188, 204, 210, 197, 218, 188, 243, 221, 220, 255,   0,   0,\n",
              "          0,   0],\n",
              "       [  0,   0,   0,  49, 255, 227, 232, 210, 217, 195, 233, 255, 248,\n",
              "        239, 209, 198, 194, 204, 227, 227, 237, 214, 225, 255,  15,   0,\n",
              "          0,   0],\n",
              "       [  0,   0,   0,  84, 255, 224, 255, 203, 217, 236, 223, 255, 255,\n",
              "        255, 255, 255, 244, 216, 220, 235, 241, 212, 227, 255,  41,   0,\n",
              "          0,   0],\n",
              "       [  0,   0,   0,  89, 254, 208, 255, 203, 221, 226, 208, 205, 244,\n",
              "        239, 243, 247, 218, 209, 185, 211, 232, 224, 223, 253,  54,   0,\n",
              "          0,   0],\n",
              "       [  0,   0,   0, 100, 240, 205, 255, 206, 212, 214, 248, 244, 211,\n",
              "        194, 244, 205, 218, 255, 209, 243, 217, 237, 220, 251,  65,   0,\n",
              "          0,   0],\n",
              "       [  0,   0,   0, 117, 236, 197, 251, 222, 204, 240, 207, 222, 221,\n",
              "        232, 231, 193, 196, 235, 224, 231, 236, 241, 219, 242,  76,   0,\n",
              "          0,   0],\n",
              "       [  0,   0,   0, 117, 234, 196, 248, 208, 226, 203, 223, 250, 245,\n",
              "        245, 248, 226, 204, 253, 242, 245, 244, 243, 216, 241,  83,   0,\n",
              "          0,   0],\n",
              "       [  0,   0,   0, 113, 234, 211, 249, 119, 223, 195, 232, 235, 224,\n",
              "        208, 255, 244, 220, 231, 209, 205, 249, 246, 216, 241,  84,   0,\n",
              "          0,   0],\n",
              "       [  0,   0,   0, 114, 233, 218, 250,  57, 235, 219, 217, 214, 252,\n",
              "        234, 209, 255, 255, 246, 202, 189, 255, 255, 214, 242,  93,   0,\n",
              "          0,   0],\n",
              "       [  0,   0,   0, 131, 228, 218, 237,  41, 249, 227, 197, 204, 255,\n",
              "        233, 224, 226, 216, 250, 238, 192, 207, 236, 215, 231, 118,   0,\n",
              "          0,   0],\n",
              "       [  0,   0,   0, 136, 209, 224, 189,  50, 255, 210, 218, 241, 217,\n",
              "        243, 215, 190, 201, 195, 201, 212, 162, 192, 228, 226, 149,   0,\n",
              "          0,   0],\n",
              "       [  0,   0,   0, 138, 208, 243, 148,  45, 255, 230, 234, 201, 206,\n",
              "        211, 244, 219, 207, 209, 200, 225, 151, 166, 226, 215, 144,   0,\n",
              "          0,   0],\n",
              "       [  0,   0,   0, 133, 206, 243, 117,   0, 234, 212, 210, 208, 211,\n",
              "        208, 212, 220, 208, 203, 201, 220,  93, 133, 228, 222, 154,   0,\n",
              "          0,   0],\n",
              "       [  0,   0,   0, 135, 226, 226,  91,   0, 255, 209, 212, 213, 212,\n",
              "        213, 212, 212, 213, 212, 208, 255,  65, 125, 235, 207, 128,   0,\n",
              "          0,   0],\n",
              "       [  0,   0,   0, 107, 215, 224,  73,   0,  42,  22,  21,  21,  22,\n",
              "         22,  22,  22,  21,  21,  17,  38,   0, 114, 234, 205,  72,   0,\n",
              "          0,   0],\n",
              "       [  0,   0,   0,  88, 225, 229,  16,   0,   0,   0,   0,   0,   0,\n",
              "          0,   0,   0,   0,   0,   0,   0,   0,  51, 248, 225,  48,   0,\n",
              "          0,   0],\n",
              "       [  0,   0,   0,  38, 144, 137,   0,   0,   4,   2,   3,   2,   2,\n",
              "          2,   2,   2,   2,   2,   2,   5,   0,  14, 158, 147,   0,   0,\n",
              "          0,   0]], dtype=uint8)"
            ],
            "text/html": [
              "<style>\n",
              "      .ndarray_repr .ndarray_raw_data {\n",
              "        display: none;\n",
              "      }\n",
              "      .ndarray_repr.show_array .ndarray_raw_data {\n",
              "        display: block;\n",
              "      }\n",
              "      .ndarray_repr.show_array .ndarray_image_preview {\n",
              "        display: none;\n",
              "      }\n",
              "      </style>\n",
              "      <div id=\"id-b04bd0a0-9c70-439c-b554-2da818eadd71\" class=\"ndarray_repr\"><pre>ndarray (28, 28) <button style=\"padding: 0 2px;\">show data</button></pre><img src=\"data:image/png;base64,iVBORw0KGgoAAAANSUhEUgAAABwAAAAcCAAAAABXZoBIAAACXElEQVR4nFWTS28SYRSG328ufAy3AQZaLKWlgYqXxHpJ1MSVG/+BiXsXbvwl/hBdmhh3Lkw0Gt00TZu0tNXSWhgIl4GBGZjhm5nPBUOTnuV58r7vyck5BADhAPDiTakR5+J2/d13XK/y54HT6XLOea/L+1/Liy4BIHk7n5jhz9VhSq+5//KxlPTyB+ELCHzZ0V15shW32mWmZ+aC2nwCAAIArN5pzedO9Iz2FElop9m0pZWu4NtCSi4SG61iN2uVTMHjiddX8LnhGvGnRTYQS8TO28zXVh9fQWWW0eqNjW1LrwWZYwUk26oup8Ul2IjMIje9/ZriyFnvsNjKlpaQN4WhwxJRTZr49kxMroztKlnadqkU8WN9/w8fnhli7GQsy2yZqYnTNqPFh3112kkkLS4lx568hBuaWPCVI+fZZjQ/H1GlNndlqAAkABX465f09gSUpmE3XVUKBKyZC6XMR4A0NXftkeXo7t/OLOEFydA2PvYhzqxbtcYBOcS9QtlM+kE8tM14jpc2qkdqLD+xZhnV0iQ+W0IE3B+vnOaKDOJWN0tFzn1OQ1sPKvngO4rZO6XZdLdRl8XFdgQAhFPyLVEwe+tr+/GK6o4iSkCUEGYYJqNUtD8VuXp5LFXFvQGxb4SZ8kDdUyLD/OrJmtGO/47kds0q2wyVAteOGHLpun1eKkVSPGnrgc1CyAJcHPSMDpX9c0LmhP1sCDS2VOaGOvK+IBMZjqzQStOhph5mNm3FwN0+BwHA4eVPHvDgV3jRry5a6es3/si5uB8qdz+6I0jB4isAiOz0vb0H4D9uxhYj0MLJiQAAAABJRU5ErkJggg==\" class=\"ndarray_image_preview\" /><pre class=\"ndarray_raw_data\">array([[  0,   0,   0,   1,   0,   0,   0,   0,   0,  70, 173, 202, 169,\n",
              "        180, 179, 182, 219, 179,  61,   0,   0,   0,   0,   0,   0,   0,\n",
              "          0,   0],\n",
              "       [  0,   0,   0,   0,   0,   0,  32, 180, 237, 248, 232, 234, 255,\n",
              "        255, 255, 255, 235, 234, 255, 236, 191,  32,   0,   0,   0,   0,\n",
              "          0,   0],\n",
              "       [  0,   0,   0,   4,   0,  47, 225, 220, 202, 199, 193, 208, 191,\n",
              "        205, 179, 218, 211, 181, 202, 212, 226, 230,  59,   0,   1,   0,\n",
              "          0,   0],\n",
              "       [  0,   0,   0,   0,   0, 187, 234, 208, 201, 206, 193, 226, 237,\n",
              "        225, 200, 232, 227, 201, 218, 212, 214, 229, 201,   0,   0,   0,\n",
              "          0,   0],\n",
              "       [  0,   0,   0,   0,  23, 229, 207, 202, 195, 198, 201, 192, 244,\n",
              "        204, 209, 236, 229, 176, 234, 207, 204, 202, 220,  29,   0,   0,\n",
              "          0,   0],\n",
              "       [  0,   0,   0,   0, 131, 253, 221, 207, 222, 199, 190, 192, 217,\n",
              "        231, 187, 254, 217, 205, 219, 209, 200, 201, 232, 128,   0,   0,\n",
              "          0,   0],\n",
              "       [  0,   0,   0,   0, 196, 235, 214, 189, 233, 255, 217, 187, 198,\n",
              "        234, 216, 255, 206, 226, 208, 204, 197, 220, 255, 182,   0,   0,\n",
              "          0,   0],\n",
              "       [  0,   0,   0,   0, 205, 226, 231, 208, 193, 222, 247, 224, 186,\n",
              "        208, 255, 253, 223, 187, 217, 204, 198, 238, 228, 218,   0,   0,\n",
              "          0,   0],\n",
              "       [  0,   0,   0,   0, 227, 227, 222, 206, 207, 198, 204, 242, 238,\n",
              "        192, 231, 240, 232, 237, 255, 251, 209, 236, 209, 227,   0,   0,\n",
              "          0,   0],\n",
              "       [  0,   0,   0,   0, 255, 227, 229, 212, 204, 199, 211, 219, 238,\n",
              "        242, 229, 226, 215, 206, 209, 222, 244, 230, 219, 255,   0,   0,\n",
              "          0,   0],\n",
              "       [  0,   0,   0,   0, 233, 234, 233, 218, 201, 209, 191, 216, 202,\n",
              "        241, 212, 192, 197, 209, 219, 184, 230, 235, 224, 250,   0,   0,\n",
              "          0,   0],\n",
              "       [  0,   0,   0,  19, 236, 224, 208, 213, 208, 236, 241, 196, 217,\n",
              "        231, 188, 204, 210, 197, 218, 188, 243, 221, 220, 255,   0,   0,\n",
              "          0,   0],\n",
              "       [  0,   0,   0,  49, 255, 227, 232, 210, 217, 195, 233, 255, 248,\n",
              "        239, 209, 198, 194, 204, 227, 227, 237, 214, 225, 255,  15,   0,\n",
              "          0,   0],\n",
              "       [  0,   0,   0,  84, 255, 224, 255, 203, 217, 236, 223, 255, 255,\n",
              "        255, 255, 255, 244, 216, 220, 235, 241, 212, 227, 255,  41,   0,\n",
              "          0,   0],\n",
              "       [  0,   0,   0,  89, 254, 208, 255, 203, 221, 226, 208, 205, 244,\n",
              "        239, 243, 247, 218, 209, 185, 211, 232, 224, 223, 253,  54,   0,\n",
              "          0,   0],\n",
              "       [  0,   0,   0, 100, 240, 205, 255, 206, 212, 214, 248, 244, 211,\n",
              "        194, 244, 205, 218, 255, 209, 243, 217, 237, 220, 251,  65,   0,\n",
              "          0,   0],\n",
              "       [  0,   0,   0, 117, 236, 197, 251, 222, 204, 240, 207, 222, 221,\n",
              "        232, 231, 193, 196, 235, 224, 231, 236, 241, 219, 242,  76,   0,\n",
              "          0,   0],\n",
              "       [  0,   0,   0, 117, 234, 196, 248, 208, 226, 203, 223, 250, 245,\n",
              "        245, 248, 226, 204, 253, 242, 245, 244, 243, 216, 241,  83,   0,\n",
              "          0,   0],\n",
              "       [  0,   0,   0, 113, 234, 211, 249, 119, 223, 195, 232, 235, 224,\n",
              "        208, 255, 244, 220, 231, 209, 205, 249, 246, 216, 241,  84,   0,\n",
              "          0,   0],\n",
              "       [  0,   0,   0, 114, 233, 218, 250,  57, 235, 219, 217, 214, 252,\n",
              "        234, 209, 255, 255, 246, 202, 189, 255, 255, 214, 242,  93,   0,\n",
              "          0,   0],\n",
              "       [  0,   0,   0, 131, 228, 218, 237,  41, 249, 227, 197, 204, 255,\n",
              "        233, 224, 226, 216, 250, 238, 192, 207, 236, 215, 231, 118,   0,\n",
              "          0,   0],\n",
              "       [  0,   0,   0, 136, 209, 224, 189,  50, 255, 210, 218, 241, 217,\n",
              "        243, 215, 190, 201, 195, 201, 212, 162, 192, 228, 226, 149,   0,\n",
              "          0,   0],\n",
              "       [  0,   0,   0, 138, 208, 243, 148,  45, 255, 230, 234, 201, 206,\n",
              "        211, 244, 219, 207, 209, 200, 225, 151, 166, 226, 215, 144,   0,\n",
              "          0,   0],\n",
              "       [  0,   0,   0, 133, 206, 243, 117,   0, 234, 212, 210, 208, 211,\n",
              "        208, 212, 220, 208, 203, 201, 220,  93, 133, 228, 222, 154,   0,\n",
              "          0,   0],\n",
              "       [  0,   0,   0, 135, 226, 226,  91,   0, 255, 209, 212, 213, 212,\n",
              "        213, 212, 212, 213, 212, 208, 255,  65, 125, 235, 207, 128,   0,\n",
              "          0,   0],\n",
              "       [  0,   0,   0, 107, 215, 224,  73,   0,  42,  22,  21,  21,  22,\n",
              "         22,  22,  22,  21,  21,  17,  38,   0, 114, 234, 205,  72,   0,\n",
              "          0,   0],\n",
              "       [  0,   0,   0,  88, 225, 229,  16,   0,   0,   0,   0,   0,   0,\n",
              "          0,   0,   0,   0,   0,   0,   0,   0,  51, 248, 225,  48,   0,\n",
              "          0,   0],\n",
              "       [  0,   0,   0,  38, 144, 137,   0,   0,   4,   2,   3,   2,   2,\n",
              "          2,   2,   2,   2,   2,   2,   5,   0,  14, 158, 147,   0,   0,\n",
              "          0,   0]], dtype=uint8)</pre></div><script>\n",
              "      (() => {\n",
              "      const titles = ['show data', 'hide data'];\n",
              "      let index = 0\n",
              "      document.querySelector('#id-b04bd0a0-9c70-439c-b554-2da818eadd71 button').onclick = (e) => {\n",
              "        document.querySelector('#id-b04bd0a0-9c70-439c-b554-2da818eadd71').classList.toggle('show_array');\n",
              "        index = (++index) % 2;\n",
              "        document.querySelector('#id-b04bd0a0-9c70-439c-b554-2da818eadd71 button').textContent = titles[index];\n",
              "        e.preventDefault();\n",
              "        e.stopPropagation();\n",
              "      }\n",
              "      })();\n",
              "    </script>"
            ]
          },
          "metadata": {},
          "execution_count": 34
        }
      ]
    },
    {
      "cell_type": "markdown",
      "id": "prime-opposition",
      "metadata": {
        "id": "prime-opposition"
      },
      "source": [
        "### Parte 2  - Exploración de datos\n",
        "\n",
        "Como es habitual, una buena práctica es explorar los datos para familiarizarse con el problema. En este caso, además de en keras, el *dataset* está disponible en *Tensorflow Datasets*.\n",
        "\n",
        "Conteste a las siguientes preguntas:        \n",
        "    - ¿Cuántas imágenes hay disponibles? ¿De qué tamaño son?       \n",
        "    - ¿Cuál es el tipo de dato? ¿Es adecuado?         \n",
        "Muestre un ejemplo de cada clase."
      ]
    },
    {
      "cell_type": "markdown",
      "source": [
        "Hay 50.000 imágenes disponibles para entrenamiento, 10.000 para validación y 10.000 para test. Son de 28x28 pixels.\n",
        "\n",
        "El tipo de dato es uint8, 8 bits sin signo, 256 valores posibles, 256 intensidades diferentes de grices."
      ],
      "metadata": {
        "id": "7s1WGSBrPUEs"
      },
      "id": "7s1WGSBrPUEs"
    },
    {
      "cell_type": "code",
      "execution_count": 18,
      "id": "together-teacher",
      "metadata": {
        "colab": {
          "base_uri": "https://localhost:8080/",
          "height": 406
        },
        "id": "together-teacher",
        "outputId": "6c1d1424-ca85-45e8-db5f-3ffb4325a6c2"
      },
      "outputs": [
        {
          "output_type": "display_data",
          "data": {
            "text/plain": [
              "<Figure size 640x480 with 1 Axes>"
            ],
            "image/png": "[encoded data removed]"
          },
          "metadata": {}
        }
      ],
      "source": [
        "plt.imshow(x_train[222], cmap='gray')  # Use 'gray' for grayscale images\n",
        "plt.axis('off')  # Optional: Turn off axis labels and ticks\n",
        "plt.show()"
      ]
    },
    {
      "cell_type": "markdown",
      "id": "quarterly-typing",
      "metadata": {
        "id": "quarterly-typing"
      },
      "source": [
        "### Parte 3 - Un primer modelo"
      ]
    },
    {
      "cell_type": "markdown",
      "id": "curious-victorian",
      "metadata": {
        "id": "curious-victorian"
      },
      "source": [
        "Construya una red neuronal totalmente conectada de 20 capas y 100 neuronas por capa. Para ello se sugiere completar la implementación de la función `fully_connected_model`. Utilice *relu* como función de activación y *sgd* como optimizador.  Indique cuántos parámetros tiene la red."
      ]
    },
    {
      "cell_type": "code",
      "execution_count": 31,
      "id": "confirmed-expert",
      "metadata": {
        "id": "confirmed-expert"
      },
      "outputs": [],
      "source": [
        "def fully_connected_model(input_shape, n_hiddens, n_neurons, activation='relu',\n",
        "                        optimizer='sgd', learning_rate = 1e-3):\n",
        "\n",
        "    '''\n",
        "    Entrada:\n",
        "        input_shape: [M,N]\n",
        "        n_hiddens: número de capas ocultas\n",
        "        n_neurons: número de neuronas en cada capa oculta\n",
        "        activation: función de activación de las neuronas. Por defecto 'relu'.\n",
        "        optimizer: método de optimización. Por defecto 'sgd'.\n",
        "        learning_rate: tasa de aprendizaje del optimizador. Por defecto 1e-3.\n",
        "    Salida:\n",
        "        model: modelo generado\n",
        "    '''\n",
        "\n",
        "    model = keras.Sequential()\n",
        "\n",
        "    model.add(keras.layers.Input(shape=input_shape))\n",
        "\n",
        "    model.add(keras.layers.Flatten())\n",
        "\n",
        "    for i in range(n_hiddens):\n",
        "      model.add(keras.layers.Dense(n_neurons, activation=activation))\n",
        "\n",
        "    model.add(keras.layers.Dense(10, activation=\"softmax\"))\n",
        "\n",
        "    opt_dict = {\n",
        "        'sgd': keras.optimizers.SGD,\n",
        "        'adam': keras.optimizers.Adam,\n",
        "    }\n",
        "\n",
        "    optimizer_class = opt_dict.get(optimizer)\n",
        "\n",
        "    optimizer_inst = optimizer_class(learning_rate=learning_rate)\n",
        "\n",
        "    model.compile(\n",
        "        loss=\"sparse_categorical_crossentropy\",\n",
        "        optimizer=optimizer_inst,\n",
        "    )\n",
        "\n",
        "    return model"
      ]
    },
    {
      "cell_type": "markdown",
      "id": "judicial-concrete",
      "metadata": {
        "id": "judicial-concrete"
      },
      "source": [
        "### Parte 4 -  Un primer entrenamiento"
      ]
    },
    {
      "cell_type": "markdown",
      "id": "moved-hanging",
      "metadata": {
        "id": "moved-hanging"
      },
      "source": [
        "Entrene el modelo generado en la parte anterior durante 10 épocas para los siguientes valores de *learning rate*: [1e-4, 5e-4, 1e-3, 5e-3, 1e-2]. Muestre los desempeños en los conjuntos de entrenamiento y validación."
      ]
    },
    {
      "cell_type": "code",
      "source": [
        "model = fully_connected_model(\n",
        "    input_shape=[28,28],\n",
        "    n_hiddens=20,\n",
        "    n_neurons=100\n",
        ")\n",
        "\n"
      ],
      "metadata": {
        "id": "bUJo2vPRV8vG"
      },
      "id": "bUJo2vPRV8vG",
      "execution_count": 32,
      "outputs": []
    },
    {
      "cell_type": "markdown",
      "id": "popular-underwear",
      "metadata": {
        "id": "popular-underwear"
      },
      "source": [
        "### Parte 5: - Cambio de Inicialización"
      ]
    },
    {
      "cell_type": "markdown",
      "id": "banner-function",
      "metadata": {
        "id": "banner-function"
      },
      "source": [
        "**5a)** Repita el experimento pero cambiando el método de inicialización de los pesos. En vez de utilizar la inicialización por defecto, utilice 'he_normal'. Comente como cambian los resultados."
      ]
    },
    {
      "cell_type": "markdown",
      "id": "innocent-encounter",
      "metadata": {
        "id": "innocent-encounter"
      },
      "source": [
        "**5b) (opcional):** Probar otras formas de inicialización. Por ejemplo, ¿Qué pasa si se utiliza 'random_normal'?"
      ]
    },
    {
      "cell_type": "markdown",
      "id": "relative-noise",
      "metadata": {
        "id": "relative-noise"
      },
      "source": [
        "### Parte 6 - Batch Normalization"
      ]
    },
    {
      "cell_type": "markdown",
      "id": "portuguese-frank",
      "metadata": {
        "id": "portuguese-frank"
      },
      "source": [
        "Modifique la implementación de la función *fully_connected_model* para que admita la posibilidad de agregar capas de *batch normalization*. En caso de utilizar *batch normalization* coloque dichas capas luego de las capas densas y antes de las activaciones, tal como fue propuesto en el [paper original](https://arxiv.org/pdf/1502.03167.pdf)."
      ]
    },
    {
      "cell_type": "markdown",
      "id": "precise-celebrity",
      "metadata": {
        "id": "precise-celebrity"
      },
      "source": [
        "**6a)** ¿Cuántos parámetros tiene el modelo con *batch normalization*? ¿Qué son y para que se usan los *Non-trainable-parameters*?"
      ]
    },
    {
      "cell_type": "markdown",
      "id": "offshore-finger",
      "metadata": {
        "id": "offshore-finger"
      },
      "source": [
        "**6b)** Repita el experimento de la **parte 4** pero ahora utilizando el modelo con *batch normalization*. Para este experimento vuelva a la inicialización de los pesos por defecto ('glorot_uniform')."
      ]
    },
    {
      "cell_type": "markdown",
      "id": "emerging-makeup",
      "metadata": {
        "id": "emerging-makeup"
      },
      "source": [
        "### Parte 7 -  Optimizador"
      ]
    },
    {
      "cell_type": "markdown",
      "id": "manual-magic",
      "metadata": {
        "id": "manual-magic"
      },
      "source": [
        "**Parte 7a)** De ser necesario, modifique la implementación de la función `fully_connected_model()` para que permita optimizar utilizando el método *adam*. Repita el experimento de la **parte 4** pero modificando solamente el optimizador. Comente los cambios que observa."
      ]
    },
    {
      "cell_type": "markdown",
      "id": "canadian-heritage",
      "metadata": {
        "id": "canadian-heritage"
      },
      "source": [
        "**Parte 7b)** ¿Cambian los resultados del entrenamiento si en la parte anterior además de cambiar el optimizador se agrega *batch normalization* ?"
      ]
    },
    {
      "cell_type": "code",
      "execution_count": null,
      "id": "thermal-pencil",
      "metadata": {
        "id": "thermal-pencil"
      },
      "outputs": [],
      "source": []
    },
    {
      "cell_type": "markdown",
      "id": "ahead-theorem",
      "metadata": {
        "id": "ahead-theorem"
      },
      "source": [
        "### Parte 8  -  Red Neuronal Convolucional"
      ]
    },
    {
      "cell_type": "markdown",
      "id": "confirmed-trust",
      "metadata": {
        "id": "confirmed-trust"
      },
      "source": [
        "**8a)** Escribir una función similar a la de la **parte 3** pero que construya una red neuronal convolucional con la siguiente arquitectura:\n",
        "    \n",
        "N * [Conv2D --> Conv2D --> Pool2D] → Flatten → Dense → Dense.\n",
        "\n",
        "donde *N* representa la cantidad de bloques [Conv2D --> Conv2D --> Pool2D] a utilizar."
      ]
    },
    {
      "cell_type": "markdown",
      "id": "irish-alloy",
      "metadata": {
        "id": "irish-alloy"
      },
      "source": [
        "**8b)** Entrenar una realización de la red. Por ejemplo, utilizar:\n",
        "- N=2\n",
        "- 64 filtros de convolución de tamaño 3 en la primera capa del bloque\n",
        "- 32 filtros de convolución de tamaño 3 en la segunda capa del bloque\n",
        "- 128 neuronas en la primera capa densa"
      ]
    },
    {
      "cell_type": "markdown",
      "id": "dietary-travel",
      "metadata": {
        "id": "dietary-travel"
      },
      "source": [
        "**8c)** ¿Cuántos parámetros tiene el modelo?"
      ]
    },
    {
      "cell_type": "markdown",
      "id": "cooked-england",
      "metadata": {
        "id": "cooked-england"
      },
      "source": [
        "### Parte 9 - Entrenar la mejor arquitectura posible\n",
        "\n",
        "En esta parte el objetivo será entrenar el mejor clasificador posible para *Fashion MNIST*. La única restricción es que el modelo de arquitectura tendrá que ser como el de la **parte 3** o como el de la **parte 8**. En ambos casos se podrán evaluar las siguientes variaciones:     \n",
        "    - Número de capas y neuronas por capa en el modelo de la **parte3**     \n",
        "    - Número de bloques, cantidad de filtros de bloque y tamaño de los filtros en el caso del modelo de la **parte 8**              \n",
        "    - Distintas funciones de activación y métodos de inicialización de pesos     \n",
        "    - Agregado de *Batch Normalization* y/o *Dropout*    \n",
        "    - Distintos métodos de optimización y sus parámetros     "
      ]
    },
    {
      "cell_type": "markdown",
      "id": "catholic-guard",
      "metadata": {
        "id": "catholic-guard"
      },
      "source": [
        "Para entrenar los modelos se recomienda la utilización de alguno de los [callbacks](https://keras.io/callbacks/) disponibles en *keras*. Por ejemplo: *early stopping* y *model checkpoint*."
      ]
    },
    {
      "cell_type": "code",
      "execution_count": null,
      "id": "formed-angle",
      "metadata": {
        "id": "formed-angle"
      },
      "outputs": [],
      "source": []
    }
  ],
  "metadata": {
    "kernelspec": {
      "display_name": "Python 3 (ipykernel)",
      "language": "python",
      "name": "python3"
    },
    "language_info": {
      "codemirror_mode": {
        "name": "ipython",
        "version": 3
      },
      "file_extension": ".py",
      "mimetype": "text/x-python",
      "name": "python",
      "nbconvert_exporter": "python",
      "pygments_lexer": "ipython3",
      "version": "3.12.9"
    },
    "varInspector": {
      "cols": {
        "lenName": 16,
        "lenType": 16,
        "lenVar": 40
      },
      "kernels_config": {
        "python": {
          "delete_cmd_postfix": "",
          "delete_cmd_prefix": "del ",
          "library": "var_list.py",
          "varRefreshCmd": "print(var_dic_list())"
        },
        "r": {
          "delete_cmd_postfix": ") ",
          "delete_cmd_prefix": "rm(",
          "library": "var_list.r",
          "varRefreshCmd": "cat(var_dic_list()) "
        }
      },
      "types_to_exclude": [
        "module",
        "function",
        "builtin_function_or_method",
        "instance",
        "_Feature"
      ],
      "window_display": false
    },
    "colab": {
      "provenance": []
    }
  },
  "nbformat": 4,
  "nbformat_minor": 5
}